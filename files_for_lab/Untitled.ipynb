{
 "cells": [
  {
   "cell_type": "code",
   "execution_count": 23,
   "id": "b4940ae0",
   "metadata": {},
   "outputs": [],
   "source": [
    "import pandas as pd"
   ]
  },
  {
   "cell_type": "code",
   "execution_count": 43,
   "id": "eeeb1cf4",
   "metadata": {},
   "outputs": [
    {
     "data": {
      "text/plain": [
       "(10910, 26)"
      ]
     },
     "execution_count": 43,
     "metadata": {},
     "output_type": "execute_result"
    }
   ],
   "source": [
    "df1 = pd.read_csv('csv_files/marketing_customer_analysis.csv')\n",
    "df1.shape"
   ]
  },
  {
   "cell_type": "code",
   "execution_count": 39,
   "id": "9a290b9d",
   "metadata": {},
   "outputs": [],
   "source": [
    "\n",
    "def clean(x):\n",
    "    \n",
    "    #Change characters to lower case\n",
    "    lst = []\n",
    "    for col in x.columns:\n",
    "        lst.append(col.lower())\n",
    "    x.columns = lst\n",
    "\n",
    "    #Deal with nan values\n",
    "    x['months since last claim'] = x['months since last claim'].fillna(x['months since last claim'].mean())\n",
    "    x['state'] = x['state'].fillna('U')\n",
    "    x['response'] = x['response'].fillna('No')\n",
    "    x['number of open complaints'] = x['number of open complaints'].fillna(0)\n",
    "    x['vehicle class'] = x['vehicle class'].fillna('U')\n",
    "    x['vehicle size'] = x['vehicle size'].fillna('U')\n",
    "    x['vehicle type'] = x['vehicle size'].fillna('U')\n",
    "\n",
    "    #change column to datetime and extract month\n",
    "    x['effective to date'] = pd.to_datetime(x['effective to date'], errors='coerce')\n",
    "    x['month'] = pd.DatetimeIndex(x['effective to date']).month\n",
    "    x['month'] = x['month'].astype(int)\n",
    "    filt = x[(x['month'].isin([1,2,3]))]\n",
    "    filt.drop(columns = 'unnamed: 0', inplace=True)\n",
    "    return filt"
   ]
  },
  {
   "cell_type": "code",
   "execution_count": 40,
   "id": "560f84c3",
   "metadata": {},
   "outputs": [],
   "source": [
    "df1 = clean(df1)"
   ]
  },
  {
   "cell_type": "code",
   "execution_count": 41,
   "id": "d5ade916",
   "metadata": {},
   "outputs": [
    {
     "data": {
      "text/plain": [
       "customer                         0\n",
       "state                            0\n",
       "customer lifetime value          0\n",
       "response                         0\n",
       "coverage                         0\n",
       "education                        0\n",
       "effective to date                0\n",
       "employmentstatus                 0\n",
       "gender                           0\n",
       "income                           0\n",
       "location code                    0\n",
       "marital status                   0\n",
       "monthly premium auto             0\n",
       "months since last claim          0\n",
       "months since policy inception    0\n",
       "number of open complaints        0\n",
       "number of policies               0\n",
       "policy type                      0\n",
       "policy                           0\n",
       "renew offer type                 0\n",
       "sales channel                    0\n",
       "total claim amount               0\n",
       "vehicle class                    0\n",
       "vehicle size                     0\n",
       "vehicle type                     0\n",
       "month                            0\n",
       "dtype: int64"
      ]
     },
     "execution_count": 41,
     "metadata": {},
     "output_type": "execute_result"
    }
   ],
   "source": [
    "df1.isna().sum()"
   ]
  },
  {
   "cell_type": "code",
   "execution_count": 42,
   "id": "1b36edb3",
   "metadata": {},
   "outputs": [
    {
     "data": {
      "text/plain": [
       "(10910, 26)"
      ]
     },
     "execution_count": 42,
     "metadata": {},
     "output_type": "execute_result"
    }
   ],
   "source": [
    "df1.shape"
   ]
  },
  {
   "cell_type": "code",
   "execution_count": null,
   "id": "bac35369",
   "metadata": {},
   "outputs": [],
   "source": []
  }
 ],
 "metadata": {
  "kernelspec": {
   "display_name": "Python 3 (ipykernel)",
   "language": "python",
   "name": "python3"
  },
  "language_info": {
   "codemirror_mode": {
    "name": "ipython",
    "version": 3
   },
   "file_extension": ".py",
   "mimetype": "text/x-python",
   "name": "python",
   "nbconvert_exporter": "python",
   "pygments_lexer": "ipython3",
   "version": "3.9.7"
  }
 },
 "nbformat": 4,
 "nbformat_minor": 5
}
